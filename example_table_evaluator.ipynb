{
 "cells": [
  {
   "cell_type": "markdown",
   "source": "## Summary\n\nThe table evaluator now provides:\n\n1. **Basic Statistical Analysis** - Traditional metrics like correlation, mean/std comparison\n2. **Advanced Statistical Analysis** - Wasserstein distance and MMD for sophisticated distribution comparison\n3. **Privacy Analysis** - Existing privacy metrics for assessing data leakage\n4. **Visual Analysis** - Comprehensive plotting capabilities\n5. **Performance Optimization** - Automatic sampling for large datasets\n\n### Key Features:\n\n- **Automatic Warnings**: Alerts when datasets are large (>250,000 rows)\n- **Sampling Support**: Optional sampling with configurable limits\n- **Multiple Kernels**: RBF, Polynomial, and Linear kernels for MMD\n- **Comprehensive Reporting**: Combined metrics with quality ratings and recommendations\n- **Type Safety**: Full type hints for better development experience\n\n### When to Use Each Method:\n\n- **Basic Analysis**: Always start here for quick overview\n- **Wasserstein Distance**: Good for detecting distributional differences\n- **MMD**: Excellent for detecting complex, non-linear differences\n- **Combined Analysis**: Use for comprehensive assessment with actionable recommendations",
   "metadata": {}
  },
  {
   "cell_type": "code",
   "source": "# Direct access to advanced metrics\nfrom table_evaluator.advanced_metrics.wasserstein import (\n    wasserstein_distance_1d, \n    wasserstein_distance_df,\n    earth_movers_distance_summary\n)\nfrom table_evaluator.advanced_metrics.mmd import (\n    mmd_squared, \n    RBFKernel,\n    mmd_column_wise,\n    mmd_multivariate\n)\n\n# Example: Single column Wasserstein distance\nif len(numerical_cols) > 0:\n    col = numerical_cols[0]\n    w_dist = wasserstein_distance_1d(real[col], fake[col])\n    print(f\"Wasserstein distance for {col}: {w_dist:.4f}\")\n\n# Example: MMD with custom kernel\nimport numpy as np\nrbf_kernel = RBFKernel(gamma=1.0)\nif len(numerical_cols) >= 2:\n    real_sample = real[numerical_cols[:2]].dropna().values\n    fake_sample = fake[numerical_cols[:2]].dropna().values\n    \n    if len(real_sample) > 0 and len(fake_sample) > 0:\n        mmd_value = mmd_squared(real_sample, fake_sample, rbf_kernel)\n        print(f\"MMD² between distributions: {mmd_value:.6f}\")\n\n# Example: Column-wise analysis\nif len(numerical_cols) > 0:\n    # Wasserstein distances for all numerical columns\n    wass_distances = wasserstein_distance_df(real, fake, numerical_cols)\n    print(f\"\\nWasserstein distances by column:\")\n    for _, row in wass_distances.iterrows():\n        print(f\"  {row['column']}: {row['wasserstein_distance']:.4f}\")\n    \n    # MMD analysis for all columns\n    mmd_column_results = mmd_column_wise(real, fake, numerical_cols)\n    print(f\"\\nMMD analysis by column:\")\n    for _, row in mmd_column_results.iterrows():\n        sig_mark = \"***\" if row['significant'] else \"\"\n        print(f\"  {row['column']}: MMD² = {row['mmd_squared']:.6f}, p = {row['p_value']:.4f} {sig_mark}\")",
   "metadata": {},
   "execution_count": null,
   "outputs": []
  },
  {
   "cell_type": "markdown",
   "source": "### 5. Direct Access to Advanced Metrics\n\nYou can also use the advanced metrics directly for specific analysis:",
   "metadata": {}
  },
  {
   "cell_type": "code",
   "source": "# Example with sampling for large datasets\n# This will automatically warn if dataset is large and suggest sampling\n\n# Enable sampling for performance\nsampling_results = advanced_evaluator.comprehensive_evaluation(\n    real, fake, numerical_cols,\n    enable_sampling=True,  # Enable sampling for large datasets\n    max_samples=5000       # Maximum samples per dataset\n)\n\nprint(\"Sampling configuration:\")\nprint(f\"  Enable sampling: True\")\nprint(f\"  Max samples per dataset: 5000\")\nprint(f\"  Automatic warnings: Enabled for datasets >250,000 rows\")\nprint(f\"  Current dataset size: {len(real) + len(fake)} rows\")\n\n# For very large datasets, you can also configure individual methods\nlarge_dataset_config = {\n    'wasserstein_config': {\n        'include_2d': False,        # Skip 2D analysis for speed\n        'enable_sampling': True,\n        'max_samples': 3000\n    },\n    'mmd_config': {\n        'kernel_types': ['rbf'],    # Use only RBF kernel for speed\n        'include_multivariate': True,\n        'enable_sampling': True,\n        'max_samples': 3000\n    }\n}\n\nprint(\"\\nConfiguration for very large datasets:\")\nprint(\"  - Wasserstein: 1D only, sampling enabled\")\nprint(\"  - MMD: RBF kernel only, sampling enabled\")\nprint(\"  - Max samples: 3000 per method\")",
   "metadata": {},
   "execution_count": null,
   "outputs": []
  },
  {
   "cell_type": "markdown",
   "source": "### 4. Working with Large Datasets\n\nWhen working with large datasets (>250,000 rows), the advanced metrics can become computationally intensive. You can enable sampling to improve performance:",
   "metadata": {}
  },
  {
   "cell_type": "code",
   "execution_count": null,
   "metadata": {},
   "outputs": [],
   "source": "# Suppress warnings before any imports\nimport warnings\nwarnings.filterwarnings('ignore', category=UserWarning, module='dython')\nwarnings.filterwarnings('ignore', category=FutureWarning, module='sklearn')\nwarnings.filterwarnings('ignore', category=UserWarning, message='.*pkg_resources.*')\nwarnings.filterwarnings('ignore', category=FutureWarning, message='.*multi_class.*')\n\n%load_ext autoreload\n%autoreload 2"
  },
  {
   "cell_type": "markdown",
   "metadata": {},
   "source": "# Example Notebook: How to analyse synthetic data\nThis notebook will show, fairly compact, how to analyse the data that you have someone obtained."
  },
  {
   "cell_type": "code",
   "metadata": {},
   "source": "from table_evaluator import TableEvaluator, load_data"
  },
  {
   "cell_type": "code",
   "metadata": {},
   "source": "real, fake = load_data(\"data/real_test_sample.csv\", \"data/fake_test_sample.csv\")"
  },
  {
   "cell_type": "code",
   "metadata": {},
   "source": "real.head()"
  },
  {
   "cell_type": "code",
   "metadata": {},
   "source": "fake.head()"
  },
  {
   "cell_type": "code",
   "execution_count": null,
   "metadata": {},
   "outputs": [],
   "source": "cat_cols = [\"trans_type\", \"trans_operation\", \"trans_k_symbol\"]"
  },
  {
   "cell_type": "code",
   "execution_count": null,
   "metadata": {},
   "outputs": [],
   "source": "evaluator = TableEvaluator(real, fake, cat_cols=cat_cols)"
  },
  {
   "cell_type": "markdown",
   "execution_count": null,
   "metadata": {},
   "outputs": [],
   "source": "### We can do a numerical analysis"
  },
  {
   "cell_type": "code",
   "execution_count": null,
   "metadata": {},
   "outputs": [],
   "source": "evaluator.evaluate(target_col=\"trans_type\", notebook=False, verbose=False)"
  },
  {
   "cell_type": "markdown",
   "execution_count": null,
   "metadata": {},
   "outputs": [],
   "source": "### But we can also do a visual analysis"
  },
  {
   "cell_type": "code",
   "execution_count": null,
   "metadata": {},
   "outputs": [],
   "source": "evaluator.visual_evaluation()"
  },
  {
   "cell_type": "markdown",
   "execution_count": null,
   "metadata": {},
   "outputs": [],
   "source": "## Advanced Statistical Analysis\n\nThe table evaluator now includes advanced statistical methods for more sophisticated distribution comparison:\n\n### 1. Wasserstein Distance (Earth Mover's Distance)\nThe Wasserstein distance provides a robust measure of the distance between two probability distributions."
  },
  {
   "cell_type": "code",
   "metadata": {},
   "source": "# Import advanced statistical evaluator\nfrom table_evaluator.evaluators.advanced_statistical import AdvancedStatisticalEvaluator\n\n# Create advanced evaluator\nadvanced_evaluator = AdvancedStatisticalEvaluator(verbose=True)\n\n# Get numerical columns for analysis\nnumerical_cols = evaluator.numerical_columns\nprint(f\"Numerical columns: {numerical_cols}\")\n\n# Run Wasserstein distance analysis\nwasserstein_results = advanced_evaluator.wasserstein_evaluation(\n    real, fake, numerical_cols\n)\n\nprint(f\"Wasserstein Quality Rating: {wasserstein_results['quality_metrics']['quality_rating']}\")\nprint(f\"Mean Wasserstein Distance: {wasserstein_results['quality_metrics']['mean_wasserstein_p1']:.4f}\")\nprint(f\"Distribution Similarity Score: {wasserstein_results['quality_metrics']['distribution_similarity_score']:.4f}\")"
  },
  {
   "cell_type": "markdown",
   "execution_count": null,
   "metadata": {},
   "outputs": [],
   "source": "### 2. Maximum Mean Discrepancy (MMD)\nMMD is a powerful kernel-based method for detecting distribution differences."
  },
  {
   "cell_type": "code",
   "metadata": {},
   "source": "# Run MMD analysis with different kernels\nmmd_results = advanced_evaluator.mmd_evaluation(\n    real, fake, numerical_cols, \n    kernel_types=[\"rbf\", \"polynomial\", \"linear\"]\n)\n\nif 'quality_metrics' in mmd_results:\n    print(f\"MMD Quality Rating: {mmd_results['quality_metrics']['mmd_rating']}\")\n    print(f\"Mean MMD: {mmd_results['quality_metrics']['mean_mmd']:.6f}\")\n    print(f\"Fraction of columns with significant differences: {mmd_results['quality_metrics']['fraction_significant_differences']:.2f}\")\n\n# Show results for different kernels\nif 'multivariate' in mmd_results:\n    print(\"\\nMultivariate MMD results by kernel:\")\n    for kernel, results in mmd_results['multivariate'].items():\n        if 'error' not in results:\n            print(f\"  {kernel}: MMD² = {results['mmd_squared']:.6f}, p-value = {results['p_value']:.4f}\")\n            print(f\"    Significant: {results['significant']}\")\n            \n# Show best kernel\nif 'best_kernel' in mmd_results:\n    best = mmd_results['best_kernel']\n    print(f\"\\nBest kernel: {best['kernel']} (discriminative power: {best['discriminative_power']})\")"
  },
  {
   "cell_type": "markdown",
   "execution_count": null,
   "metadata": {},
   "outputs": [],
   "source": "### 3. Comprehensive Advanced Analysis\nCombine all advanced methods for a complete assessment:"
  },
  {
   "cell_type": "code",
   "metadata": {},
   "source": "# Run comprehensive advanced evaluation\ncomprehensive_results = advanced_evaluator.comprehensive_evaluation(\n    real, fake, numerical_cols\n)\n\n# Show combined metrics\ncombined = comprehensive_results['combined_metrics']\nprint(f\"Overall Similarity Score: {combined['overall_similarity']:.4f}\")\nprint(f\"Quality Consensus: {combined['quality_consensus']}\")\nprint(f\"Wasserstein Rating: {combined['wasserstein_rating']}\")\nprint(f\"MMD Rating: {combined['mmd_rating']}\")\n\n# Show statistical significance\nsig_info = combined['statistical_significance']\nprint(f\"\\nStatistical Significance:\")\nprint(f\"  Fraction of columns with significant differences: {sig_info['fraction_columns_different']:.2f}\")\nprint(f\"  Interpretation: {sig_info['interpretation']}\")\n\n# Show recommendations\nprint(f\"\\nRecommendations:\")\nfor i, rec in enumerate(comprehensive_results['recommendations'], 1):\n    print(f\"  {i}. {rec}\")"
  }
 ],
 "metadata": {
  "kernelspec": {
   "display_name": ".venv",
   "language": "python",
   "name": "python3"
  },
  "language_info": {
   "codemirror_mode": {
    "name": "ipython",
    "version": 3
   },
   "file_extension": ".py",
   "mimetype": "text/x-python",
   "name": "python",
   "nbconvert_exporter": "python",
   "pygments_lexer": "ipython3",
   "version": "3.12.6"
  }
 },
 "nbformat": 4,
 "nbformat_minor": 4
}

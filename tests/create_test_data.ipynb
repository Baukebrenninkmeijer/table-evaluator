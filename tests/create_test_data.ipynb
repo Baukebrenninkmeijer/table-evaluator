{
 "cells": [
  {
   "cell_type": "code",
   "execution_count": 15,
   "metadata": {},
   "outputs": [],
   "source": [
    "import sys\n",
    "\n",
    "sys.path.append('..')\n",
    "from pathlib import Path\n",
    "\n",
    "import dython\n",
    "import pandas as pd\n",
    "from dython.nominal import associations, numerical_encoding\n",
    "from table_evaluator import *"
   ]
  },
  {
   "cell_type": "code",
   "execution_count": 16,
   "metadata": {},
   "outputs": [],
   "source": [
    "assert dython.__version__ == '0.7.3', 'Dython version should be version 0.7.3'"
   ]
  },
  {
   "cell_type": "code",
   "execution_count": 17,
   "metadata": {},
   "outputs": [
    {
     "data": {
      "text/plain": [
       "'2.0.3'"
      ]
     },
     "execution_count": 17,
     "metadata": {},
     "output_type": "execute_result"
    }
   ],
   "source": [
    "pd.__version__"
   ]
  },
  {
   "cell_type": "markdown",
   "metadata": {},
   "source": [
    "### Set nominal columns and load data"
   ]
  },
  {
   "cell_type": "code",
   "execution_count": 18,
   "metadata": {},
   "outputs": [],
   "source": [
    "nominal_cols = ['trans_type', 'trans_operation', 'trans_k_symbol']\n",
    "data_folder = Path('../data')\n",
    "test_data_folder = Path('../data/tests')"
   ]
  },
  {
   "cell_type": "code",
   "execution_count": 19,
   "metadata": {},
   "outputs": [],
   "source": [
    "real = pd.read_csv(data_folder / 'real_test_sample.csv')\n",
    "fake = pd.read_csv(data_folder / 'fake_test_sample.csv')"
   ]
  },
  {
   "cell_type": "markdown",
   "metadata": {},
   "source": [
    "### Create numerical encodings"
   ]
  },
  {
   "cell_type": "code",
   "execution_count": 20,
   "metadata": {},
   "outputs": [],
   "source": [
    "real_num_enc = numerical_encoding(real, nominal_columns=nominal_cols)\n",
    "fake_num_enc = numerical_encoding(fake, nominal_columns=nominal_cols)"
   ]
  },
  {
   "cell_type": "code",
   "execution_count": 21,
   "metadata": {},
   "outputs": [],
   "source": [
    "real_num_enc.to_parquet(test_data_folder / 'real_test_sample_numerical_encoded.parquet')\n",
    "fake_num_enc.to_parquet(test_data_folder / 'fake_test_sample_numerical_encoded.parquet')"
   ]
  },
  {
   "cell_type": "markdown",
   "metadata": {},
   "source": [
    "### Create Associations"
   ]
  },
  {
   "cell_type": "code",
   "execution_count": 22,
   "metadata": {},
   "outputs": [],
   "source": [
    "real_assoc = associations(real, nominal_columns=nominal_cols, compute_only=True)['corr']\n",
    "real_assoc_theil = associations(real, nominal_columns=nominal_cols, nom_nom_assoc='theil', compute_only=True)['corr']\n",
    "\n",
    "fake_assoc = associations(fake, nominal_columns=nominal_cols, compute_only=True)['corr']\n",
    "fake_assoc_theil = associations(fake, nominal_columns=nominal_cols, nom_nom_assoc='theil', compute_only=True)['corr']"
   ]
  },
  {
   "cell_type": "code",
   "execution_count": 24,
   "metadata": {},
   "outputs": [
    {
     "data": {
      "text/html": [
       "<div>\n",
       "<style scoped>\n",
       "    .dataframe tbody tr th:only-of-type {\n",
       "        vertical-align: middle;\n",
       "    }\n",
       "\n",
       "    .dataframe tbody tr th {\n",
       "        vertical-align: top;\n",
       "    }\n",
       "\n",
       "    .dataframe thead th {\n",
       "        text-align: right;\n",
       "    }\n",
       "</style>\n",
       "<table border=\"1\" class=\"dataframe\">\n",
       "  <thead>\n",
       "    <tr style=\"text-align: right;\">\n",
       "      <th></th>\n",
       "      <th>trans_id</th>\n",
       "      <th>account_id</th>\n",
       "      <th>trans_amount</th>\n",
       "      <th>balance_after_trans</th>\n",
       "      <th>trans_type</th>\n",
       "      <th>trans_operation</th>\n",
       "      <th>trans_k_symbol</th>\n",
       "      <th>trans_date</th>\n",
       "    </tr>\n",
       "  </thead>\n",
       "  <tbody>\n",
       "    <tr>\n",
       "      <th>trans_id</th>\n",
       "      <td>1.000000</td>\n",
       "      <td>0.522830</td>\n",
       "      <td>-0.220340</td>\n",
       "      <td>0.028876</td>\n",
       "      <td>0.474287</td>\n",
       "      <td>0.835292</td>\n",
       "      <td>0.841451</td>\n",
       "      <td>0.054574</td>\n",
       "    </tr>\n",
       "    <tr>\n",
       "      <th>account_id</th>\n",
       "      <td>0.522830</td>\n",
       "      <td>1.000000</td>\n",
       "      <td>0.025829</td>\n",
       "      <td>0.108967</td>\n",
       "      <td>0.048279</td>\n",
       "      <td>0.088169</td>\n",
       "      <td>0.164624</td>\n",
       "      <td>0.052132</td>\n",
       "    </tr>\n",
       "    <tr>\n",
       "      <th>trans_amount</th>\n",
       "      <td>-0.220340</td>\n",
       "      <td>0.025829</td>\n",
       "      <td>1.000000</td>\n",
       "      <td>0.394746</td>\n",
       "      <td>0.193900</td>\n",
       "      <td>0.531158</td>\n",
       "      <td>0.494940</td>\n",
       "      <td>0.016639</td>\n",
       "    </tr>\n",
       "    <tr>\n",
       "      <th>balance_after_trans</th>\n",
       "      <td>0.028876</td>\n",
       "      <td>0.108967</td>\n",
       "      <td>0.394746</td>\n",
       "      <td>1.000000</td>\n",
       "      <td>0.124192</td>\n",
       "      <td>0.230062</td>\n",
       "      <td>0.178185</td>\n",
       "      <td>0.123935</td>\n",
       "    </tr>\n",
       "    <tr>\n",
       "      <th>trans_type</th>\n",
       "      <td>0.474287</td>\n",
       "      <td>0.048279</td>\n",
       "      <td>0.193900</td>\n",
       "      <td>0.124192</td>\n",
       "      <td>1.000000</td>\n",
       "      <td>0.709220</td>\n",
       "      <td>0.516440</td>\n",
       "      <td>0.031496</td>\n",
       "    </tr>\n",
       "    <tr>\n",
       "      <th>trans_operation</th>\n",
       "      <td>0.835292</td>\n",
       "      <td>0.088169</td>\n",
       "      <td>0.531158</td>\n",
       "      <td>0.230062</td>\n",
       "      <td>0.709220</td>\n",
       "      <td>1.000000</td>\n",
       "      <td>0.663146</td>\n",
       "      <td>0.093090</td>\n",
       "    </tr>\n",
       "    <tr>\n",
       "      <th>trans_k_symbol</th>\n",
       "      <td>0.841451</td>\n",
       "      <td>0.164624</td>\n",
       "      <td>0.494940</td>\n",
       "      <td>0.178185</td>\n",
       "      <td>0.516440</td>\n",
       "      <td>0.663146</td>\n",
       "      <td>1.000000</td>\n",
       "      <td>0.107945</td>\n",
       "    </tr>\n",
       "    <tr>\n",
       "      <th>trans_date</th>\n",
       "      <td>0.054574</td>\n",
       "      <td>0.052132</td>\n",
       "      <td>0.016639</td>\n",
       "      <td>0.123935</td>\n",
       "      <td>0.031496</td>\n",
       "      <td>0.093090</td>\n",
       "      <td>0.107945</td>\n",
       "      <td>1.000000</td>\n",
       "    </tr>\n",
       "  </tbody>\n",
       "</table>\n",
       "</div>"
      ],
      "text/plain": [
       "                     trans_id  account_id  trans_amount  balance_after_trans  \\\n",
       "trans_id             1.000000    0.522830     -0.220340             0.028876   \n",
       "account_id           0.522830    1.000000      0.025829             0.108967   \n",
       "trans_amount        -0.220340    0.025829      1.000000             0.394746   \n",
       "balance_after_trans  0.028876    0.108967      0.394746             1.000000   \n",
       "trans_type           0.474287    0.048279      0.193900             0.124192   \n",
       "trans_operation      0.835292    0.088169      0.531158             0.230062   \n",
       "trans_k_symbol       0.841451    0.164624      0.494940             0.178185   \n",
       "trans_date           0.054574    0.052132      0.016639             0.123935   \n",
       "\n",
       "                     trans_type  trans_operation  trans_k_symbol  trans_date  \n",
       "trans_id               0.474287         0.835292        0.841451    0.054574  \n",
       "account_id             0.048279         0.088169        0.164624    0.052132  \n",
       "trans_amount           0.193900         0.531158        0.494940    0.016639  \n",
       "balance_after_trans    0.124192         0.230062        0.178185    0.123935  \n",
       "trans_type             1.000000         0.709220        0.516440    0.031496  \n",
       "trans_operation        0.709220         1.000000        0.663146    0.093090  \n",
       "trans_k_symbol         0.516440         0.663146        1.000000    0.107945  \n",
       "trans_date             0.031496         0.093090        0.107945    1.000000  "
      ]
     },
     "execution_count": 24,
     "metadata": {},
     "output_type": "execute_result"
    }
   ],
   "source": [
    "pd.read_parquet(test_data_folder / 'real_associations.parquet')"
   ]
  },
  {
   "cell_type": "code",
   "execution_count": null,
   "metadata": {},
   "outputs": [],
   "source": [
    "# Give the index a name, so we can set this column as index on loading the csv\n",
    "# for i in [real_assoc, real_assoc_theil, fake_assoc, fake_assoc_theil]:\n",
    "#     i.index.rename('index', inplace=True)\n",
    "\n",
    "real_assoc.to_parquet(test_data_folder / 'real_associations.parquet')\n",
    "real_assoc_theil.to_parquet(test_data_folder / 'real_associations_theil.parquet')\n",
    "\n",
    "fake_assoc.to_parquet(test_data_folder / 'fake_associations.parquet')\n",
    "fake_assoc_theil.to_parquet(test_data_folder / 'fake_associations_theil.parquet')"
   ]
  },
  {
   "cell_type": "code",
   "execution_count": null,
   "metadata": {},
   "outputs": [
    {
     "data": {
      "text/html": [
       "<div>\n",
       "<style scoped>\n",
       "    .dataframe tbody tr th:only-of-type {\n",
       "        vertical-align: middle;\n",
       "    }\n",
       "\n",
       "    .dataframe tbody tr th {\n",
       "        vertical-align: top;\n",
       "    }\n",
       "\n",
       "    .dataframe thead th {\n",
       "        text-align: right;\n",
       "    }\n",
       "</style>\n",
       "<table border=\"1\" class=\"dataframe\">\n",
       "  <thead>\n",
       "    <tr style=\"text-align: right;\">\n",
       "      <th></th>\n",
       "      <th>trans_id</th>\n",
       "      <th>account_id</th>\n",
       "      <th>trans_amount</th>\n",
       "      <th>balance_after_trans</th>\n",
       "      <th>trans_type</th>\n",
       "      <th>trans_operation</th>\n",
       "      <th>trans_k_symbol</th>\n",
       "      <th>trans_date</th>\n",
       "    </tr>\n",
       "  </thead>\n",
       "  <tbody>\n",
       "    <tr>\n",
       "      <th>trans_id</th>\n",
       "      <td>1.000000</td>\n",
       "      <td>0.522830</td>\n",
       "      <td>-0.220340</td>\n",
       "      <td>0.028876</td>\n",
       "      <td>0.474287</td>\n",
       "      <td>0.835292</td>\n",
       "      <td>0.841451</td>\n",
       "      <td>0.054574</td>\n",
       "    </tr>\n",
       "    <tr>\n",
       "      <th>account_id</th>\n",
       "      <td>0.522830</td>\n",
       "      <td>1.000000</td>\n",
       "      <td>0.025829</td>\n",
       "      <td>0.108967</td>\n",
       "      <td>0.048279</td>\n",
       "      <td>0.088169</td>\n",
       "      <td>0.164624</td>\n",
       "      <td>0.052132</td>\n",
       "    </tr>\n",
       "    <tr>\n",
       "      <th>trans_amount</th>\n",
       "      <td>-0.220340</td>\n",
       "      <td>0.025829</td>\n",
       "      <td>1.000000</td>\n",
       "      <td>0.394746</td>\n",
       "      <td>0.193900</td>\n",
       "      <td>0.531158</td>\n",
       "      <td>0.494940</td>\n",
       "      <td>0.016639</td>\n",
       "    </tr>\n",
       "    <tr>\n",
       "      <th>balance_after_trans</th>\n",
       "      <td>0.028876</td>\n",
       "      <td>0.108967</td>\n",
       "      <td>0.394746</td>\n",
       "      <td>1.000000</td>\n",
       "      <td>0.124192</td>\n",
       "      <td>0.230062</td>\n",
       "      <td>0.178185</td>\n",
       "      <td>0.123935</td>\n",
       "    </tr>\n",
       "    <tr>\n",
       "      <th>trans_type</th>\n",
       "      <td>0.474287</td>\n",
       "      <td>0.048279</td>\n",
       "      <td>0.193900</td>\n",
       "      <td>0.124192</td>\n",
       "      <td>1.000000</td>\n",
       "      <td>0.904474</td>\n",
       "      <td>0.482048</td>\n",
       "      <td>0.031496</td>\n",
       "    </tr>\n",
       "    <tr>\n",
       "      <th>trans_operation</th>\n",
       "      <td>0.835292</td>\n",
       "      <td>0.088169</td>\n",
       "      <td>0.531158</td>\n",
       "      <td>0.230062</td>\n",
       "      <td>0.459150</td>\n",
       "      <td>1.000000</td>\n",
       "      <td>0.604179</td>\n",
       "      <td>0.093090</td>\n",
       "    </tr>\n",
       "    <tr>\n",
       "      <th>trans_k_symbol</th>\n",
       "      <td>0.841451</td>\n",
       "      <td>0.164624</td>\n",
       "      <td>0.494940</td>\n",
       "      <td>0.178185</td>\n",
       "      <td>0.250205</td>\n",
       "      <td>0.617749</td>\n",
       "      <td>1.000000</td>\n",
       "      <td>0.107945</td>\n",
       "    </tr>\n",
       "    <tr>\n",
       "      <th>trans_date</th>\n",
       "      <td>0.054574</td>\n",
       "      <td>0.052132</td>\n",
       "      <td>0.016639</td>\n",
       "      <td>0.123935</td>\n",
       "      <td>0.031496</td>\n",
       "      <td>0.093090</td>\n",
       "      <td>0.107945</td>\n",
       "      <td>1.000000</td>\n",
       "    </tr>\n",
       "  </tbody>\n",
       "</table>\n",
       "</div>"
      ],
      "text/plain": [
       "                     trans_id  account_id  trans_amount  balance_after_trans  \\\n",
       "trans_id             1.000000    0.522830     -0.220340             0.028876   \n",
       "account_id           0.522830    1.000000      0.025829             0.108967   \n",
       "trans_amount        -0.220340    0.025829      1.000000             0.394746   \n",
       "balance_after_trans  0.028876    0.108967      0.394746             1.000000   \n",
       "trans_type           0.474287    0.048279      0.193900             0.124192   \n",
       "trans_operation      0.835292    0.088169      0.531158             0.230062   \n",
       "trans_k_symbol       0.841451    0.164624      0.494940             0.178185   \n",
       "trans_date           0.054574    0.052132      0.016639             0.123935   \n",
       "\n",
       "                     trans_type  trans_operation  trans_k_symbol  trans_date  \n",
       "trans_id               0.474287         0.835292        0.841451    0.054574  \n",
       "account_id             0.048279         0.088169        0.164624    0.052132  \n",
       "trans_amount           0.193900         0.531158        0.494940    0.016639  \n",
       "balance_after_trans    0.124192         0.230062        0.178185    0.123935  \n",
       "trans_type             1.000000         0.904474        0.482048    0.031496  \n",
       "trans_operation        0.459150         1.000000        0.604179    0.093090  \n",
       "trans_k_symbol         0.250205         0.617749        1.000000    0.107945  \n",
       "trans_date             0.031496         0.093090        0.107945    1.000000  "
      ]
     },
     "execution_count": 13,
     "metadata": {},
     "output_type": "execute_result"
    }
   ],
   "source": [
    "pd.read_parquet(test_data_folder / 'real_associations_theil.parquet')"
   ]
  }
 ],
 "metadata": {
  "kernelspec": {
   "display_name": "base",
   "language": "python",
   "name": "python3"
  },
  "language_info": {
   "codemirror_mode": {
    "name": "ipython",
    "version": 3
   },
   "file_extension": ".py",
   "mimetype": "text/x-python",
   "name": "python",
   "nbconvert_exporter": "python",
   "pygments_lexer": "ipython3",
   "version": "3.9.7"
  },
  "vscode": {
   "interpreter": {
    "hash": "7f01e88ea25a1ac3bb5bad9a6866e291f76248279393d8536ad2ed16e1233702"
   }
  }
 },
 "nbformat": 4,
 "nbformat_minor": 4
}
